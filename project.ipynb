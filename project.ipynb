{
 "cells": [
  {
   "cell_type": "markdown",
   "metadata": {},
   "source": [
    "## 175 Project"
   ]
  },
  {
   "cell_type": "markdown",
   "metadata": {},
   "source": [
    "Setup instructions in `src/README.md`"
   ]
  },
  {
   "cell_type": "markdown",
   "metadata": {},
   "source": [
    "This code will take about 20 seconds to run once you have all the dependencies installed. There is no data required as all environments are provided by cleanrl and ale-py."
   ]
  },
  {
   "cell_type": "markdown",
   "metadata": {},
   "source": [
    "## Imports"
   ]
  },
  {
   "cell_type": "code",
   "execution_count": 1,
   "metadata": {},
   "outputs": [
    {
     "name": "stderr",
     "output_type": "stream",
     "text": [
      "/home/omar/.cache/pypoetry/virtualenvs/cleanrl-m8vVMvIA-py3.9/lib/python3.9/site-packages/torch/utils/tensorboard/__init__.py:4: DeprecationWarning: distutils Version classes are deprecated. Use packaging.version instead.\n",
      "  if not hasattr(tensorboard, \"__version__\") or LooseVersion(\n"
     ]
    }
   ],
   "source": [
    "import torch\n",
    "import torch.nn as nn\n",
    "import gymnasium as gym\n",
    "\n",
    "from src.cleanrl_utils.evals.dqn_eval import evaluate\n",
    "from src.cleanrl.dqn_atari import QNetwork, make_env"
   ]
  },
  {
   "cell_type": "markdown",
   "metadata": {},
   "source": [
    "## Initialize parameters"
   ]
  },
  {
   "cell_type": "code",
   "execution_count": null,
   "metadata": {},
   "outputs": [
    {
     "name": "stdout",
     "output_type": "stream",
     "text": [
      "Device: cpu\n"
     ]
    }
   ],
   "source": [
    "device = torch.device(\"cuda\" if torch.cuda.is_available() else \"cpu\")\n",
    "\n",
    "env_id = \"SpaceInvadersNoFrameskip-v4\"\n",
    "envs = gym.vector.SyncVectorEnv([make_env(env_id, 0, 0, False, '')])\n",
    "\n",
    "model = QNetwork(envs).to(device)\n",
    "model_path = \"models/0.5_sparsity_dqn.cleanrl_model\"\n",
    "model.load_state_dict(torch.load(model_path, map_location=device))\n",
    "print(f'Device: {device}')"
   ]
  },
  {
   "cell_type": "markdown",
   "metadata": {},
   "source": [
    "## Check Sparsity"
   ]
  },
  {
   "cell_type": "code",
   "execution_count": 42,
   "metadata": {},
   "outputs": [
    {
     "name": "stdout",
     "output_type": "stream",
     "text": [
      "Zero weights: 830160\n",
      "Nonzero weights: 778552\n",
      "Total sparsity: 0.5160401613216039\n"
     ]
    }
   ],
   "source": [
    "weights = [layer.weight if isinstance(layer, nn.Linear) else torch.tensor([0]) for layer in model.network ]\n",
    "zero_weights = sum([torch.sum(torch.eq(weight, 0)).item() for weight in weights])\n",
    "nonzero_weights = sum([torch.count_nonzero(weight).item() for weight in weights])\n",
    "\n",
    "print('Zero weights:', zero_weights) \n",
    "print('Nonzero weights:', nonzero_weights)\n",
    "print('Total sparsity:', zero_weights/(zero_weights+nonzero_weights))"
   ]
  },
  {
   "cell_type": "markdown",
   "metadata": {},
   "source": [
    "## Evaluate Model (DQN 0.5 sparsity)"
   ]
  },
  {
   "cell_type": "code",
   "execution_count": 43,
   "metadata": {},
   "outputs": [
    {
     "name": "stderr",
     "output_type": "stream",
     "text": [
      "/home/omar/.cache/pypoetry/virtualenvs/cleanrl-m8vVMvIA-py3.9/lib/python3.9/site-packages/gymnasium/utils/passive_env_checker.py:364: UserWarning: \u001b[33mWARN: No render fps was declared in the environment (env.metadata['render_fps'] is None or not defined), rendering may occur at inconsistent fps.\u001b[0m\n",
      "  logger.warn(\n"
     ]
    },
    {
     "name": "stdout",
     "output_type": "stream",
     "text": [
      "Moviepy - Building video /home/omar/Documents/Coding/175/project/videos/dqn_eval/rl-video-episode-0.mp4.\n",
      "Moviepy - Writing video /home/omar/Documents/Coding/175/project/videos/dqn_eval/rl-video-episode-0.mp4\n",
      "\n"
     ]
    },
    {
     "name": "stderr",
     "output_type": "stream",
     "text": [
      "                                                                                                                                              \r"
     ]
    },
    {
     "name": "stdout",
     "output_type": "stream",
     "text": [
      "Moviepy - Done !\n",
      "Moviepy - video ready /home/omar/Documents/Coding/175/project/videos/dqn_eval/rl-video-episode-0.mp4\n",
      "eval_episode=0, episodic_return=[465.]\n",
      "Moviepy - Building video /home/omar/Documents/Coding/175/project/videos/dqn_eval/rl-video-episode-1.mp4.\n",
      "Moviepy - Writing video /home/omar/Documents/Coding/175/project/videos/dqn_eval/rl-video-episode-1.mp4\n",
      "\n"
     ]
    },
    {
     "name": "stderr",
     "output_type": "stream",
     "text": [
      "                                                                                                                                              \r"
     ]
    },
    {
     "name": "stdout",
     "output_type": "stream",
     "text": [
      "Moviepy - Done !\n",
      "Moviepy - video ready /home/omar/Documents/Coding/175/project/videos/dqn_eval/rl-video-episode-1.mp4\n",
      "eval_episode=1, episodic_return=[435.]\n",
      "eval_episode=2, episodic_return=[350.]\n",
      "eval_episode=3, episodic_return=[700.]\n",
      "eval_episode=4, episodic_return=[470.]\n"
     ]
    }
   ],
   "source": [
    "episodic_returns = evaluate(\n",
    "    model_path,\n",
    "    make_env,\n",
    "    env_id,\n",
    "    eval_episodes=5,\n",
    "    run_name=\"dqn_eval\",\n",
    "    Model=QNetwork,\n",
    "    device=device,\n",
    "    epsilon=0.05,\n",
    ")"
   ]
  },
  {
   "cell_type": "code",
   "execution_count": 44,
   "metadata": {},
   "outputs": [
    {
     "name": "stdout",
     "output_type": "stream",
     "text": [
      "Mean episodic return of 0.5 sparsity dqn: [484.]\n"
     ]
    }
   ],
   "source": [
    "print(f'Mean episodic return of 0.5 sparsity dqn: {sum(episodic_returns)/len(episodic_returns)}')"
   ]
  },
  {
   "cell_type": "markdown",
   "metadata": {},
   "source": [
    "## Video of Model"
   ]
  },
  {
   "cell_type": "markdown",
   "metadata": {},
   "source": [
    "This code also save a video to the `videos/` folder. Here is an example of what that video will look like:"
   ]
  },
  {
   "cell_type": "markdown",
   "metadata": {},
   "source": [
    "<video width=\"640\" height=\"480\" controls>\n",
    "    <source src=\"example_video.mp4\" type=\"video/mp4\">\n",
    "    Your browser does not support the video tag.\n",
    "</video>"
   ]
  }
 ],
 "metadata": {
  "kernelspec": {
   "display_name": "Python (175_env)",
   "language": "python",
   "name": "175_env"
  },
  "language_info": {
   "codemirror_mode": {
    "name": "ipython",
    "version": 3
   },
   "file_extension": ".py",
   "mimetype": "text/x-python",
   "name": "python",
   "nbconvert_exporter": "python",
   "pygments_lexer": "ipython3",
   "version": "3.9.20"
  }
 },
 "nbformat": 4,
 "nbformat_minor": 4
}
